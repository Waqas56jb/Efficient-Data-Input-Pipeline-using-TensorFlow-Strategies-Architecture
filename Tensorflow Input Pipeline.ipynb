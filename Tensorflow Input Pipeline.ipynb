{
 "cells": [
  {
   "cell_type": "markdown",
   "id": "efa853e3-63c6-47bd-9b42-dc75282975e2",
   "metadata": {},
   "source": [
    "<h1 align=\"center\">Tensorflow Input Pipeline\n",
    "</h1>"
   ]
  },
  {
   "cell_type": "code",
   "execution_count": 268,
   "id": "e4bda5e9-afaf-46a0-80a3-62a505082aaa",
   "metadata": {},
   "outputs": [],
   "source": [
    "import tensorflow as tf"
   ]
  },
  {
   "cell_type": "markdown",
   "id": "decbe7b4-c27c-4fb4-9da0-64cd2eabb366",
   "metadata": {},
   "source": [
    "# Create tf dataset from a list"
   ]
  },
  {
   "cell_type": "code",
   "execution_count": 270,
   "id": "9baf444d-1e42-461f-be7f-0288927d213e",
   "metadata": {},
   "outputs": [
    {
     "data": {
      "text/plain": [
       "<_TensorSliceDataset element_spec=TensorSpec(shape=(), dtype=tf.int32, name=None)>"
      ]
     },
     "execution_count": 270,
     "metadata": {},
     "output_type": "execute_result"
    }
   ],
   "source": [
    "dataset=[12,34,-54,34,65,-45,34,65]\n",
    "df=tf.data.Dataset.from_tensor_slices(dataset)\n",
    "df"
   ]
  },
  {
   "cell_type": "markdown",
   "id": "886b9826-771e-4425-958a-7dc96dcaa7b6",
   "metadata": {},
   "source": [
    "# Iterate through tf dataset"
   ]
  },
  {
   "cell_type": "code",
   "execution_count": 201,
   "id": "25b2c259-23f9-4561-ab10-eabff479e753",
   "metadata": {},
   "outputs": [
    {
     "name": "stdout",
     "output_type": "stream",
     "text": [
      "12\n",
      "34\n",
      "-54\n",
      "34\n",
      "65\n",
      "-45\n",
      "34\n",
      "65\n"
     ]
    }
   ],
   "source": [
    "for sales in df.as_numpy_iterator():\n",
    "    print(sales)"
   ]
  },
  {
   "cell_type": "code",
   "execution_count": 203,
   "id": "bf3b0019-1971-49d4-b68c-26764d85a7f1",
   "metadata": {},
   "outputs": [
    {
     "name": "stdout",
     "output_type": "stream",
     "text": [
      "12\n",
      "34\n",
      "34\n",
      "65\n",
      "34\n",
      "65\n"
     ]
    }
   ],
   "source": [
    "df=df.filter(lambda x:x>0)\n",
    "for sales in df.as_numpy_iterator():\n",
    "    print(sales)"
   ]
  },
  {
   "cell_type": "markdown",
   "id": "037f2604-1ed3-4154-a68c-906d466d442c",
   "metadata": {},
   "source": [
    "# Iterate through elements as numpy elements"
   ]
  },
  {
   "cell_type": "code",
   "execution_count": 204,
   "id": "ad24aa15-9b62-4d37-bee6-9c02b2571211",
   "metadata": {},
   "outputs": [
    {
     "name": "stdout",
     "output_type": "stream",
     "text": [
      "60\n",
      "170\n",
      "170\n",
      "325\n",
      "170\n",
      "325\n"
     ]
    }
   ],
   "source": [
    "df=df.map(lambda x:x*5)\n",
    "for sales in df.as_numpy_iterator():\n",
    "    print(sales)"
   ]
  },
  {
   "cell_type": "code",
   "execution_count": 207,
   "id": "5d493293-4b76-4d13-b116-63eace004357",
   "metadata": {},
   "outputs": [
    {
     "name": "stdout",
     "output_type": "stream",
     "text": [
      "60\n",
      "170\n",
      "170\n",
      "170\n",
      "325\n",
      "325\n"
     ]
    }
   ],
   "source": [
    "df=df.shuffle(2)\n",
    "for sales in df.as_numpy_iterator():\n",
    "    print(sales)"
   ]
  },
  {
   "cell_type": "code",
   "execution_count": 208,
   "id": "d6c0c9ee-97ee-4019-817f-70033375c2c3",
   "metadata": {},
   "outputs": [
    {
     "name": "stdout",
     "output_type": "stream",
     "text": [
      "[170  60]\n",
      "[325 170]\n",
      "[325 170]\n"
     ]
    }
   ],
   "source": [
    "df=df.batch(2)\n",
    "for sales in df.as_numpy_iterator():\n",
    "    print(sales)\n"
   ]
  },
  {
   "cell_type": "markdown",
   "id": "ac2e98ed-7d63-483b-9468-6a69c38c467b",
   "metadata": {},
   "source": [
    "# Convert sales numbers from USA dollars ($) to PKR Rupees (INR) Assuming 1->285 conversation rate"
   ]
  },
  {
   "cell_type": "code",
   "execution_count": 384,
   "id": "25551f12-2249-43d5-b0ad-effbe40522ad",
   "metadata": {},
   "outputs": [
    {
     "name": "stdout",
     "output_type": "stream",
     "text": [
      "[5985 6270]\n",
      "[9120 8835]\n",
      "[9690]\n"
     ]
    }
   ],
   "source": [
    "daily_sales_numbers = [21, 22, -108, -1, 32, 34,31]\n",
    "tf_dataset = tf.data.Dataset.from_tensor_slices(daily_sales_numbers)\n",
    "\n",
    "tf_dataset = tf_dataset.filter(lambda x: x>0).map(lambda y: y*285).shuffle(2).batch(2)\n",
    "for sales in tf_dataset.as_numpy_iterator():\n",
    "    print(sales)"
   ]
  },
  {
   "cell_type": "code",
   "execution_count": 386,
   "id": "ad9c9639-6b29-4a71-89cf-008a24579b60",
   "metadata": {},
   "outputs": [],
   "source": [
    "images_ds = tf.data.Dataset.list_files('images/*/*', shuffle=False)\n"
   ]
  },
  {
   "cell_type": "code",
   "execution_count": 387,
   "id": "ffe1bbb9-db27-4141-a5de-bb6b9ef36e31",
   "metadata": {},
   "outputs": [
    {
     "data": {
      "text/plain": [
       "3475"
      ]
     },
     "execution_count": 387,
     "metadata": {},
     "output_type": "execute_result"
    }
   ],
   "source": [
    "image_counts=len(images_ds)\n",
    "image_counts"
   ]
  },
  {
   "cell_type": "code",
   "execution_count": 388,
   "id": "005c3a1e-e0b2-41d8-a382-a21a06064047",
   "metadata": {},
   "outputs": [
    {
     "name": "stdout",
     "output_type": "stream",
     "text": [
      "<class 'tensorflow.python.data.ops.from_tensor_slices_op._TensorSliceDataset'>\n"
     ]
    }
   ],
   "source": [
    "print(type(images_ds))"
   ]
  },
  {
   "cell_type": "code",
   "execution_count": 389,
   "id": "79194360-428a-48aa-ab24-d5696a5f2844",
   "metadata": {},
   "outputs": [
    {
     "name": "stdout",
     "output_type": "stream",
     "text": [
      "b'images\\\\Pepper__bell___Bacterial_spot\\\\0022d6b7-d47c-4ee2-ae9a-392a53f48647___JR_B.Spot 8964.JPG'\n",
      "b'images\\\\Pepper__bell___Bacterial_spot\\\\006adb74-934f-448f-a14f-62181742127b___JR_B.Spot 3395.JPG'\n",
      "b'images\\\\Pepper__bell___Bacterial_spot\\\\00f2e69a-1e56-412d-8a79-fdce794a17e4___JR_B.Spot 3132.JPG'\n"
     ]
    }
   ],
   "source": [
    "for file in images_ds.take(3):\n",
    "    print(file.numpy())"
   ]
  },
  {
   "cell_type": "markdown",
   "id": "9172e925-7fb7-4008-9b37-4ae6506b0103",
   "metadata": {},
   "source": [
    "# Perform all of the above operations in one shot"
   ]
  },
  {
   "cell_type": "code",
   "execution_count": 390,
   "id": "45811fe3-79b9-45c4-9edb-5723110f82a2",
   "metadata": {},
   "outputs": [
    {
     "name": "stdout",
     "output_type": "stream",
     "text": [
      "b'images\\\\Pepper__bell___Bacterial_spot\\\\197fdd19-46d1-46f7-8e79-aa9545f76ff0___JR_B.Spot 9000.JPG'\n",
      "b'images\\\\Pepper__bell___Bacterial_spot\\\\2a8a3b2f-d65a-416b-a251-63bb89f448c3___JR_B.Spot 3322.JPG'\n",
      "b'images\\\\Pepper__bell___Bacterial_spot\\\\264753e7-97b9-4f1e-a1c2-a9239eb691b9___JR_B.Spot 8866.JPG'\n"
     ]
    }
   ],
   "source": [
    "images_ds = images_ds.shuffle(200)\n",
    "for file in images_ds.take(3):\n",
    "    print(file.numpy())"
   ]
  },
  {
   "cell_type": "code",
   "execution_count": 393,
   "id": "35cea691-43e3-4662-9a8e-0a5f8d9b2800",
   "metadata": {},
   "outputs": [],
   "source": [
    "class_names = [\"Early\",\"Normal\",\"Old\"]\n"
   ]
  },
  {
   "cell_type": "code",
   "execution_count": 394,
   "id": "8c9dc62f-c893-4c37-a073-db71a1f2563b",
   "metadata": {},
   "outputs": [],
   "source": [
    "train_size = int(image_counts*0.8)\n",
    "train_ds = images_ds.take(train_size)\n",
    "test_ds = images_ds.skip(train_size)"
   ]
  },
  {
   "cell_type": "code",
   "execution_count": 289,
   "id": "382e9ada-5df3-4714-ba33-1d83763062d6",
   "metadata": {},
   "outputs": [
    {
     "data": {
      "text/plain": [
       "2780"
      ]
     },
     "execution_count": 289,
     "metadata": {},
     "output_type": "execute_result"
    }
   ],
   "source": [
    "len(train_ds)\n"
   ]
  },
  {
   "cell_type": "code",
   "execution_count": 290,
   "id": "1425ec42-56c3-4cc9-b422-7a743da582cd",
   "metadata": {},
   "outputs": [
    {
     "data": {
      "text/plain": [
       "695"
      ]
     },
     "execution_count": 290,
     "metadata": {},
     "output_type": "execute_result"
    }
   ],
   "source": [
    "len(test_ds)\n"
   ]
  },
  {
   "cell_type": "code",
   "execution_count": 291,
   "id": "971f4627-4d47-42de-b87f-f1fc9d5892c6",
   "metadata": {},
   "outputs": [],
   "source": [
    "def get_label(file_path):\n",
    "    import os\n",
    "    parts = tf.strings.split(file_path, os.path.sep)\n",
    "    return parts[-2]"
   ]
  },
  {
   "cell_type": "code",
   "execution_count": 292,
   "id": "2eb34174-c827-4039-89bf-52695f33379f",
   "metadata": {},
   "outputs": [
    {
     "data": {
      "text/plain": [
       "<tf.Tensor: shape=(), dtype=string, numpy=b'Pepper__bell___Bacterial_spot'>"
      ]
     },
     "execution_count": 292,
     "metadata": {},
     "output_type": "execute_result"
    }
   ],
   "source": [
    "get_label(\"images\\\\Pepper__bell___Bacterial_spot\\\\11092e1c-9fdc-4405-85b9-a8d7548f12bb___JR_B.Spot 9051.JPG\")\n"
   ]
  },
  {
   "cell_type": "code",
   "execution_count": 293,
   "id": "9e7be5ef-6cfc-404a-bedd-e8e080ec345a",
   "metadata": {},
   "outputs": [],
   "source": [
    "def process_image(file_path):\n",
    "    label = get_label(file_path)\n",
    "    img = tf.io.read_file(file_path) # load the raw data from the file as a string\n",
    "    img = tf.image.decode_jpeg(img)\n",
    "    img = tf.image.resize(img, [128, 128])\n",
    "    return img, label"
   ]
  },
  {
   "cell_type": "code",
   "execution_count": 294,
   "id": "bf412101-dba2-4b2f-9a87-a14eb3860379",
   "metadata": {},
   "outputs": [
    {
     "data": {
      "text/plain": [
       "array([[[153.5 , 139.5 , 138.5 ],\n",
       "        [142.25, 128.25, 127.25],\n",
       "        [143.5 , 129.5 , 128.5 ],\n",
       "        [142.25, 128.25, 127.25],\n",
       "        [138.  , 124.  , 123.  ],\n",
       "        [151.  , 137.  , 136.  ],\n",
       "        [156.25, 142.25, 141.25],\n",
       "        [162.25, 148.25, 147.25],\n",
       "        [148.75, 134.75, 133.75],\n",
       "        [143.25, 129.25, 128.25],\n",
       "        [151.75, 137.75, 136.75],\n",
       "        [141.  , 127.  , 126.  ],\n",
       "        [147.25, 133.25, 132.25],\n",
       "        [150.25, 136.25, 135.25],\n",
       "        [145.5 , 131.5 , 130.5 ],\n",
       "        [148.  , 134.  , 133.  ],\n",
       "        [153.5 , 139.5 , 138.5 ],\n",
       "        [159.5 , 145.5 , 144.5 ],\n",
       "        [153.  , 139.  , 138.  ],\n",
       "        [143.5 , 129.5 , 128.5 ],\n",
       "        [156.  , 142.  , 141.  ],\n",
       "        [155.  , 141.  , 140.  ],\n",
       "        [155.25, 141.25, 140.25],\n",
       "        [155.75, 141.75, 140.75],\n",
       "        [147.25, 133.25, 132.25],\n",
       "        [148.  , 134.  , 133.  ],\n",
       "        [156.25, 142.25, 141.25],\n",
       "        [149.  , 135.  , 134.  ],\n",
       "        [147.75, 133.75, 132.75],\n",
       "        [142.75, 128.75, 127.75],\n",
       "        [149.5 , 135.5 , 134.5 ],\n",
       "        [163.  , 149.  , 148.  ],\n",
       "        [162.5 , 148.5 , 147.5 ],\n",
       "        [157.25, 143.25, 142.25],\n",
       "        [160.5 , 146.5 , 145.5 ],\n",
       "        [152.5 , 138.5 , 137.5 ],\n",
       "        [146.5 , 132.5 , 131.5 ],\n",
       "        [149.75, 135.75, 134.75],\n",
       "        [154.25, 140.25, 139.25],\n",
       "        [150.75, 136.75, 135.75],\n",
       "        [155.  , 141.  , 140.  ],\n",
       "        [158.75, 144.75, 143.75],\n",
       "        [154.  , 140.  , 139.  ],\n",
       "        [149.75, 135.75, 134.75],\n",
       "        [157.  , 143.  , 142.  ],\n",
       "        [140.5 , 126.5 , 125.5 ],\n",
       "        [159.75, 145.75, 144.75],\n",
       "        [150.75, 136.75, 135.75],\n",
       "        [150.5 , 132.5 , 132.5 ],\n",
       "        [150.25, 132.25, 132.25],\n",
       "        [152.75, 134.75, 134.75],\n",
       "        [138.75, 120.75, 120.75],\n",
       "        [148.25, 130.25, 130.25],\n",
       "        [152.5 , 134.5 , 134.5 ],\n",
       "        [148.5 , 130.5 , 130.5 ],\n",
       "        [143.75, 126.75, 126.75],\n",
       "        [156.25, 141.25, 140.75],\n",
       "        [143.5 , 129.5 , 128.5 ],\n",
       "        [144.25, 130.25, 129.25],\n",
       "        [147.5 , 133.5 , 132.5 ],\n",
       "        [143.25, 129.25, 128.25],\n",
       "        [156.  , 142.  , 141.  ],\n",
       "        [168.  , 154.  , 153.  ],\n",
       "        [164.  , 150.  , 149.  ],\n",
       "        [163.5 , 149.5 , 146.5 ],\n",
       "        [145.  , 131.  , 128.  ],\n",
       "        [153.5 , 139.5 , 136.5 ],\n",
       "        [140.  , 126.  , 123.  ],\n",
       "        [148.  , 134.  , 131.  ],\n",
       "        [157.  , 143.  , 140.  ],\n",
       "        [152.5 , 138.5 , 135.5 ],\n",
       "        [140.25, 126.25, 123.25],\n",
       "        [151.  , 135.5 , 135.25],\n",
       "        [150.75, 133.25, 133.25],\n",
       "        [146.25, 124.75, 126.5 ],\n",
       "        [159.5 , 134.  , 137.  ],\n",
       "        [165.  , 141.5 , 144.  ],\n",
       "        [148.75, 128.75, 129.75],\n",
       "        [149.75, 135.5 , 134.75],\n",
       "        [156.75, 145.5 , 147.  ],\n",
       "        [138.5 , 121.75, 142.  ],\n",
       "        [147.5 , 132.75, 135.5 ],\n",
       "        [151.75, 139.75, 125.25],\n",
       "        [155.25, 142.75, 131.75],\n",
       "        [151.  , 136.  , 141.75],\n",
       "        [170.  , 153.75, 166.25],\n",
       "        [140.5 , 126.75, 124.  ],\n",
       "        [158.25, 146.75, 129.75],\n",
       "        [146.75, 133.25, 129.25],\n",
       "        [164.75, 150.75, 149.75],\n",
       "        [150.75, 136.75, 135.75],\n",
       "        [154.75, 140.75, 139.75],\n",
       "        [172.  , 158.  , 157.  ],\n",
       "        [152.25, 138.25, 137.25],\n",
       "        [142.  , 128.  , 127.  ],\n",
       "        [143.5 , 129.5 , 128.5 ],\n",
       "        [147.5 , 133.5 , 132.5 ],\n",
       "        [160.25, 146.25, 145.25],\n",
       "        [148.25, 134.25, 133.25],\n",
       "        [143.5 , 129.5 , 128.5 ],\n",
       "        [148.25, 134.25, 133.25],\n",
       "        [153.75, 139.75, 138.75],\n",
       "        [150.25, 136.25, 135.25],\n",
       "        [152.75, 138.75, 137.75],\n",
       "        [148.75, 134.75, 133.75],\n",
       "        [166.75, 152.75, 151.75],\n",
       "        [156.  , 142.  , 141.  ],\n",
       "        [147.75, 133.75, 132.75],\n",
       "        [149.5 , 135.5 , 134.5 ],\n",
       "        [158.75, 144.75, 143.75],\n",
       "        [153.25, 139.25, 138.25],\n",
       "        [146.  , 132.  , 131.  ],\n",
       "        [146.25, 132.25, 131.25],\n",
       "        [158.5 , 144.5 , 143.5 ],\n",
       "        [130.75, 116.75, 115.75],\n",
       "        [149.75, 135.75, 134.75],\n",
       "        [160.75, 146.75, 145.75],\n",
       "        [149.75, 135.75, 134.75],\n",
       "        [164.5 , 150.5 , 149.5 ],\n",
       "        [160.5 , 146.5 , 145.5 ],\n",
       "        [161.5 , 147.5 , 147.5 ],\n",
       "        [184.25, 170.25, 170.25],\n",
       "        [148.  , 134.  , 134.  ],\n",
       "        [160.75, 146.75, 146.75],\n",
       "        [170.75, 156.75, 156.75],\n",
       "        [172.  , 158.  , 158.  ],\n",
       "        [142.25, 128.25, 128.25],\n",
       "        [155.  , 141.  , 141.  ]],\n",
       "\n",
       "       [[147.75, 133.75, 132.75],\n",
       "        [148.  , 134.  , 133.  ],\n",
       "        [152.5 , 138.5 , 137.5 ],\n",
       "        [143.25, 129.25, 128.25],\n",
       "        [155.  , 141.  , 140.  ],\n",
       "        [151.  , 137.  , 136.  ],\n",
       "        [142.75, 128.75, 127.75],\n",
       "        [147.75, 133.75, 132.75],\n",
       "        [143.5 , 129.5 , 128.5 ],\n",
       "        [164.5 , 150.5 , 149.5 ],\n",
       "        [140.  , 126.  , 125.  ],\n",
       "        [151.5 , 137.5 , 136.5 ],\n",
       "        [147.25, 133.25, 132.25],\n",
       "        [155.5 , 141.5 , 140.5 ],\n",
       "        [148.5 , 134.5 , 133.5 ],\n",
       "        [147.75, 133.75, 132.75],\n",
       "        [128.  , 114.  , 113.  ],\n",
       "        [130.25, 116.25, 115.25],\n",
       "        [153.25, 139.25, 138.25],\n",
       "        [159.5 , 145.5 , 144.5 ],\n",
       "        [161.  , 147.  , 146.  ],\n",
       "        [161.75, 147.75, 146.75],\n",
       "        [154.  , 140.  , 139.  ],\n",
       "        [147.75, 133.75, 132.75],\n",
       "        [165.75, 151.75, 150.75],\n",
       "        [150.25, 136.25, 135.25],\n",
       "        [149.25, 135.25, 134.25],\n",
       "        [164.  , 150.  , 149.  ],\n",
       "        [154.75, 140.75, 139.75],\n",
       "        [149.75, 135.75, 134.75],\n",
       "        [161.75, 147.75, 146.75],\n",
       "        [148.25, 134.25, 133.25],\n",
       "        [143.75, 129.75, 128.75],\n",
       "        [152.75, 138.75, 137.75],\n",
       "        [141.25, 127.25, 126.25],\n",
       "        [150.25, 136.25, 135.25],\n",
       "        [147.25, 133.25, 132.25],\n",
       "        [141.  , 127.  , 126.  ],\n",
       "        [152.  , 138.  , 137.  ],\n",
       "        [144.  , 130.  , 129.  ],\n",
       "        [143.25, 129.25, 128.25],\n",
       "        [152.5 , 138.5 , 137.5 ],\n",
       "        [167.5 , 153.5 , 152.5 ],\n",
       "        [146.75, 132.75, 131.75],\n",
       "        [145.  , 131.  , 130.  ],\n",
       "        [154.75, 140.75, 139.75],\n",
       "        [154.5 , 140.5 , 139.5 ],\n",
       "        [148.5 , 134.5 , 133.5 ],\n",
       "        [126.25, 108.25, 108.25],\n",
       "        [149.  , 131.  , 131.  ],\n",
       "        [158.75, 140.75, 140.75],\n",
       "        [154.  , 136.  , 136.  ],\n",
       "        [151.25, 133.25, 133.25],\n",
       "        [149.25, 131.25, 131.25],\n",
       "        [147.75, 129.75, 129.75],\n",
       "        [152.25, 135.25, 135.25],\n",
       "        [151.25, 136.25, 135.75],\n",
       "        [162.25, 148.25, 147.25],\n",
       "        [147.25, 133.25, 132.25],\n",
       "        [147.  , 133.  , 132.  ],\n",
       "        [142.5 , 128.5 , 127.5 ],\n",
       "        [166.25, 152.25, 151.25],\n",
       "        [142.25, 128.25, 127.25],\n",
       "        [157.25, 143.25, 142.25],\n",
       "        [159.25, 145.25, 142.25],\n",
       "        [154.  , 140.  , 137.  ],\n",
       "        [154.25, 140.25, 137.25],\n",
       "        [153.  , 139.  , 136.  ],\n",
       "        [150.25, 136.25, 133.25],\n",
       "        [153.5 , 139.5 , 136.5 ],\n",
       "        [156.25, 142.25, 139.25],\n",
       "        [145.25, 131.25, 128.25],\n",
       "        [141.25, 128.75, 127.25],\n",
       "        [148.  , 134.25, 133.25],\n",
       "        [154.75, 134.75, 135.75],\n",
       "        [147.75, 125.5 , 127.5 ],\n",
       "        [147.25, 124.5 , 126.75],\n",
       "        [165.5 , 145.5 , 146.5 ],\n",
       "        [159.25, 143.25, 143.  ],\n",
       "        [139.5 , 125.5 , 125.  ],\n",
       "        [156.  , 144.  , 145.5 ],\n",
       "        [149.  , 138.25, 132.25],\n",
       "        [138.25, 129.  , 114.25],\n",
       "        [153.  , 143.75, 128.  ],\n",
       "        [158.75, 148.75, 138.25],\n",
       "        [158.  , 147.25, 140.5 ],\n",
       "        [153.25, 142.75, 136.  ],\n",
       "        [153.5 , 143.  , 135.5 ],\n",
       "        [163.5 , 149.5 , 148.  ],\n",
       "        [155.5 , 141.5 , 140.5 ],\n",
       "        [145.75, 131.75, 130.75],\n",
       "        [157.  , 143.  , 142.  ],\n",
       "        [151.  , 137.  , 136.  ],\n",
       "        [145.  , 131.  , 130.  ],\n",
       "        [138.5 , 124.5 , 123.5 ],\n",
       "        [148.25, 134.25, 133.25],\n",
       "        [153.5 , 139.5 , 138.5 ],\n",
       "        [166.  , 152.  , 151.  ],\n",
       "        [152.  , 138.  , 137.  ],\n",
       "        [157.5 , 143.5 , 142.5 ],\n",
       "        [152.75, 138.75, 137.75],\n",
       "        [166.  , 152.  , 151.  ],\n",
       "        [138.  , 124.  , 123.  ],\n",
       "        [156.  , 142.  , 141.  ],\n",
       "        [151.75, 137.75, 136.75],\n",
       "        [160.75, 146.75, 145.75],\n",
       "        [157.75, 143.75, 142.75],\n",
       "        [170.  , 156.  , 155.  ],\n",
       "        [157.5 , 143.5 , 142.5 ],\n",
       "        [158.  , 144.  , 143.  ],\n",
       "        [157.5 , 143.5 , 142.5 ],\n",
       "        [167.  , 153.  , 152.  ],\n",
       "        [149.5 , 135.5 , 134.5 ],\n",
       "        [167.  , 153.  , 152.  ],\n",
       "        [157.75, 143.75, 142.75],\n",
       "        [157.75, 143.75, 142.75],\n",
       "        [151.25, 137.25, 136.25],\n",
       "        [141.25, 127.25, 126.25],\n",
       "        [145.5 , 131.5 , 130.5 ],\n",
       "        [166.25, 152.25, 151.25],\n",
       "        [159.25, 145.25, 145.25],\n",
       "        [162.  , 148.  , 148.  ],\n",
       "        [149.  , 135.  , 135.  ],\n",
       "        [154.5 , 140.5 , 140.5 ],\n",
       "        [169.  , 155.  , 155.  ],\n",
       "        [157.75, 143.75, 143.75],\n",
       "        [155.75, 141.75, 141.75],\n",
       "        [160.25, 146.25, 146.25]]], dtype=float32)"
      ]
     },
     "execution_count": 294,
     "metadata": {},
     "output_type": "execute_result"
    }
   ],
   "source": [
    "img, label = process_image(\"images\\\\Pepper__bell___Bacterial_spot\\\\11092e1c-9fdc-4405-85b9-a8d7548f12bb___JR_B.Spot 9051.JPG\")\n",
    "img.numpy()[:2]"
   ]
  },
  {
   "cell_type": "code",
   "execution_count": 295,
   "id": "70adba83-29a5-49fd-84e0-b32d78119723",
   "metadata": {},
   "outputs": [],
   "source": [
    "train_ds = train_ds.map(process_image)\n",
    "test_ds = test_ds.map(process_image)"
   ]
  },
  {
   "cell_type": "code",
   "execution_count": 296,
   "id": "74bb8a37-2475-4b81-91d6-53626cb98180",
   "metadata": {},
   "outputs": [
    {
     "name": "stdout",
     "output_type": "stream",
     "text": [
      "**** tf.Tensor(\n",
      "[[[169.5  156.5  147.5 ]\n",
      "  [175.75 162.75 153.75]\n",
      "  [177.   164.   155.  ]\n",
      "  ...\n",
      "  [166.   148.   136.  ]\n",
      "  [155.25 137.25 125.25]\n",
      "  [146.25 128.25 116.25]]\n",
      "\n",
      " [[179.5  166.5  157.5 ]\n",
      "  [187.75 174.75 165.75]\n",
      "  [180.75 167.75 158.75]\n",
      "  ...\n",
      "  [148.   130.   118.  ]\n",
      "  [166.75 148.75 136.75]\n",
      "  [147.25 129.25 117.25]]\n",
      "\n",
      " [[177.75 164.75 155.75]\n",
      "  [168.5  155.5  146.5 ]\n",
      "  [181.5  168.5  159.5 ]\n",
      "  ...\n",
      "  [151.75 133.75 121.75]\n",
      "  [151.25 133.25 121.25]\n",
      "  [138.5  120.5  108.5 ]]\n",
      "\n",
      " ...\n",
      "\n",
      " [[171.75 155.75 142.75]\n",
      "  [169.5  153.5  140.5 ]\n",
      "  [168.   152.   139.  ]\n",
      "  ...\n",
      "  [150.5  129.5  110.5 ]\n",
      "  [169.   148.   129.  ]\n",
      "  [168.25 147.25 128.25]]\n",
      "\n",
      " [[177.25 161.25 148.25]\n",
      "  [180.75 164.75 151.75]\n",
      "  [170.75 154.75 141.75]\n",
      "  ...\n",
      "  [155.   134.   115.  ]\n",
      "  [160.25 139.25 120.25]\n",
      "  [163.5  142.5  123.5 ]]\n",
      "\n",
      " [[176.75 160.75 147.75]\n",
      "  [172.   156.   143.  ]\n",
      "  [171.   155.   142.  ]\n",
      "  ...\n",
      "  [153.5  132.5  113.5 ]\n",
      "  [161.75 140.75 121.75]\n",
      "  [152.25 131.25 112.25]]], shape=(128, 128, 3), dtype=float32)\n",
      "**** tf.Tensor(b'Pepper__bell___Bacterial_spot', shape=(), dtype=string)\n"
     ]
    }
   ],
   "source": [
    "for image, label in train_ds.take(1):\n",
    "    print(\"****\",image)\n",
    "    print(\"****\",label)"
   ]
  },
  {
   "cell_type": "code",
   "execution_count": 297,
   "id": "138cbee4-979c-4ecf-b215-b9f3c98571a8",
   "metadata": {},
   "outputs": [],
   "source": [
    "def scale(image, label):\n",
    "    return image/255, label"
   ]
  },
  {
   "cell_type": "code",
   "execution_count": 298,
   "id": "96974f90-fb4b-49c7-8f98-00c071db1b2b",
   "metadata": {},
   "outputs": [],
   "source": [
    "train_ds = train_ds.map(scale)\n"
   ]
  },
  {
   "cell_type": "code",
   "execution_count": 299,
   "id": "dc9cc7d4-539f-4169-ace5-6e6fa347d751",
   "metadata": {},
   "outputs": [
    {
     "name": "stdout",
     "output_type": "stream",
     "text": [
      "****Image:  [0.5833333  0.5441176  0.54019606]\n",
      "****Label:  b'Pepper__bell___Bacterial_spot'\n",
      "****Image:  [0.7676471 0.7441176 0.7519608]\n",
      "****Label:  b'Pepper__bell___Bacterial_spot'\n",
      "****Image:  [0.6607843 0.6137255 0.6137255]\n",
      "****Label:  b'Pepper__bell___Bacterial_spot'\n",
      "****Image:  [0.65392154 0.6186274  0.59313726]\n",
      "****Label:  b'Pepper__bell___Bacterial_spot'\n",
      "****Image:  [0.59705883 0.5735294  0.5892157 ]\n",
      "****Label:  b'Pepper__bell___Bacterial_spot'\n"
     ]
    }
   ],
   "source": [
    "for image, label in train_ds.take(5):\n",
    "    print(\"****Image: \",image.numpy()[0][0])\n",
    "    print(\"****Label: \",label.numpy())"
   ]
  },
  {
   "cell_type": "markdown",
   "id": "74a37885-f70b-48b1-935b-7d2fd40568c0",
   "metadata": {},
   "source": [
    "<h1 align=\"center\">Optimize Tensorflow Pipeline Performance: prefetch & cache  Deep Learning</h1>"
   ]
  },
  {
   "cell_type": "code",
   "execution_count": 342,
   "id": "3d2b2e31-d686-41b0-9fab-4ca357ffee77",
   "metadata": {},
   "outputs": [],
   "source": [
    "import tensorflow as tf\n",
    "import time"
   ]
  },
  {
   "cell_type": "code",
   "execution_count": 344,
   "id": "f2ef8e0d-11c1-49ce-89e1-f61e471be174",
   "metadata": {},
   "outputs": [
    {
     "data": {
      "text/plain": [
       "'2.17.0'"
      ]
     },
     "execution_count": 344,
     "metadata": {},
     "output_type": "execute_result"
    }
   ],
   "source": [
    "tf.__version__"
   ]
  },
  {
   "cell_type": "markdown",
   "id": "9754f330-c389-462a-b7f6-0f4629b592af",
   "metadata": {},
   "source": [
    "# Prefetch"
   ]
  },
  {
   "cell_type": "code",
   "execution_count": 350,
   "id": "aab99ef5-63c2-470a-b33d-fe18dcfffe0a",
   "metadata": {},
   "outputs": [],
   "source": [
    "class FileDataset(tf.data.Dataset):\n",
    "    def read_file_in_batches(num_samples):\n",
    "        # Opening the file\n",
    "        time.sleep(0.03)\n",
    "\n",
    "        for sample_idx in range(num_samples):\n",
    "            # Reading data (line, record) from the file\n",
    "            time.sleep(0.015)\n",
    "\n",
    "            yield (sample_idx,)\n",
    "\n",
    "    def __new__(cls, num_samples=3):\n",
    "        return tf.data.Dataset.from_generator(\n",
    "            cls.read_file_in_batches,\n",
    "            output_signature = tf.TensorSpec(shape = (1,), dtype = tf.int64),\n",
    "            args=(num_samples,)\n",
    "        )"
   ]
  },
  {
   "cell_type": "code",
   "execution_count": 354,
   "id": "ff9b3265-b338-44b9-a91f-0ce62a84d7a3",
   "metadata": {},
   "outputs": [],
   "source": [
    "def benchmark(dataset, num_epochs=2):\n",
    "    for epoch_num in range(num_epochs):\n",
    "        for sample in dataset:\n",
    "            # Performing a training step\n",
    "            time.sleep(0.01)\n"
   ]
  },
  {
   "cell_type": "code",
   "execution_count": 356,
   "id": "09409422-4147-4f0b-ab2a-c8cd26982302",
   "metadata": {},
   "outputs": [
    {
     "name": "stdout",
     "output_type": "stream",
     "text": [
      "598 ms ± 117 ms per loop (mean ± std. dev. of 7 runs, 1 loop each)\n"
     ]
    }
   ],
   "source": [
    "%%timeit\n",
    "benchmark(FileDataset())"
   ]
  },
  {
   "cell_type": "code",
   "execution_count": 412,
   "id": "2e81be5d-1e9f-4a73-9424-0c19ae262c71",
   "metadata": {},
   "outputs": [
    {
     "name": "stdout",
     "output_type": "stream",
     "text": [
      "346 ms ± 41.2 ms per loop (mean ± std. dev. of 7 runs, 1 loop each)\n"
     ]
    }
   ],
   "source": [
    "%%timeit\n",
    "benchmark(FileDataset().prefetch(1))"
   ]
  },
  {
   "cell_type": "code",
   "execution_count": 360,
   "id": "0b4c9c85-d570-4c6f-8cda-180265de74a9",
   "metadata": {},
   "outputs": [
    {
     "name": "stdout",
     "output_type": "stream",
     "text": [
      "531 ms ± 43.8 ms per loop (mean ± std. dev. of 7 runs, 1 loop each)\n"
     ]
    }
   ],
   "source": [
    "%%timeit\n",
    "benchmark(FileDataset().prefetch(tf.data.AUTOTUNE))"
   ]
  },
  {
   "cell_type": "markdown",
   "id": "38402796-c4ff-4d0f-aeea-b9e23229b5ef",
   "metadata": {},
   "source": [
    "# As you can notice above, using prefetch improves the performance from 598 ms to 414 and 531 ms"
   ]
  },
  {
   "cell_type": "markdown",
   "id": "7fe4622b-4f0e-417c-88a9-3460713ffc15",
   "metadata": {},
   "source": [
    "# Cache"
   ]
  },
  {
   "cell_type": "code",
   "execution_count": 362,
   "id": "e725d151-3b3d-4f0b-953a-6fcd14de0747",
   "metadata": {},
   "outputs": [
    {
     "data": {
      "text/plain": [
       "[0, 1, 4, 9, 16]"
      ]
     },
     "execution_count": 362,
     "metadata": {},
     "output_type": "execute_result"
    }
   ],
   "source": [
    "dataset = tf.data.Dataset.range(5)\n",
    "dataset = dataset.map(lambda x: x**2)\n",
    "dataset = dataset.cache(\"mycache.txt\")\n",
    "# The first time reading through the data will generate the data using\n",
    "# `range` and `map`.\n",
    "list(dataset.as_numpy_iterator())"
   ]
  },
  {
   "cell_type": "code",
   "execution_count": 364,
   "id": "fe97388c-96b6-4e1a-836a-086a8cc0c604",
   "metadata": {},
   "outputs": [
    {
     "data": {
      "text/plain": [
       "[0, 1, 4, 9, 16]"
      ]
     },
     "execution_count": 364,
     "metadata": {},
     "output_type": "execute_result"
    }
   ],
   "source": [
    "# Subsequent iterations read from the cache.\n",
    "list(dataset.as_numpy_iterator())"
   ]
  },
  {
   "cell_type": "code",
   "execution_count": 366,
   "id": "4e133e3b-30d8-46ab-badf-55bdf6366ab3",
   "metadata": {},
   "outputs": [],
   "source": [
    "def mapped_function(s):\n",
    "    # Do some hard pre-processing\n",
    "    tf.py_function(lambda: time.sleep(0.03), [], ())\n",
    "    return s"
   ]
  },
  {
   "cell_type": "code",
   "execution_count": 368,
   "id": "36b1d478-8322-4513-8d5f-f59f2291d9e5",
   "metadata": {},
   "outputs": [
    {
     "name": "stdout",
     "output_type": "stream",
     "text": [
      "2.07 s ± 0 ns per loop (mean ± std. dev. of 1 run, 1 loop each)\n"
     ]
    }
   ],
   "source": [
    "%%timeit -r1 -n1\n",
    "benchmark(FileDataset().map(mapped_function), 5)"
   ]
  },
  {
   "cell_type": "code",
   "execution_count": 370,
   "id": "739f53a2-0946-4d02-b83a-1fb1646508e4",
   "metadata": {},
   "outputs": [
    {
     "name": "stdout",
     "output_type": "stream",
     "text": [
      "530 ms ± 0 ns per loop (mean ± std. dev. of 1 run, 1 loop each)\n"
     ]
    }
   ],
   "source": [
    "%%timeit -r1 -n1\n",
    "benchmark(FileDataset().map(mapped_function).cache(), 5)"
   ]
  },
  {
   "cell_type": "code",
   "execution_count": null,
   "id": "f273cf62-0fa5-47a4-a636-ebf1c90d12fb",
   "metadata": {},
   "outputs": [],
   "source": []
  },
  {
   "cell_type": "code",
   "execution_count": null,
   "id": "d7b74cf7-16bd-4f97-b370-ac1133471e43",
   "metadata": {},
   "outputs": [],
   "source": []
  },
  {
   "cell_type": "code",
   "execution_count": null,
   "id": "e6395f38-bdc7-4cb9-b14f-da64108ddb0e",
   "metadata": {},
   "outputs": [],
   "source": []
  }
 ],
 "metadata": {
  "kernelspec": {
   "display_name": "Python 3 (ipykernel)",
   "language": "python",
   "name": "python3"
  },
  "language_info": {
   "codemirror_mode": {
    "name": "ipython",
    "version": 3
   },
   "file_extension": ".py",
   "mimetype": "text/x-python",
   "name": "python",
   "nbconvert_exporter": "python",
   "pygments_lexer": "ipython3",
   "version": "3.12.4"
  }
 },
 "nbformat": 4,
 "nbformat_minor": 5
}
